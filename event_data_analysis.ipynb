{
 "cells": [
  {
   "cell_type": "code",
   "execution_count": 28,
   "metadata": {},
   "outputs": [],
   "source": [
    "import pandas as pd\n",
    "import numpy as np"
   ]
  },
  {
   "cell_type": "code",
   "execution_count": 29,
   "metadata": {},
   "outputs": [],
   "source": [
    "df = pd.read_csv('event_data.csv')"
   ]
  },
  {
   "cell_type": "code",
   "execution_count": 30,
   "metadata": {},
   "outputs": [
    {
     "data": {
      "text/html": [
       "<div>\n",
       "<style scoped>\n",
       "    .dataframe tbody tr th:only-of-type {\n",
       "        vertical-align: middle;\n",
       "    }\n",
       "\n",
       "    .dataframe tbody tr th {\n",
       "        vertical-align: top;\n",
       "    }\n",
       "\n",
       "    .dataframe thead th {\n",
       "        text-align: right;\n",
       "    }\n",
       "</style>\n",
       "<table border=\"1\" class=\"dataframe\">\n",
       "  <thead>\n",
       "    <tr style=\"text-align: right;\">\n",
       "      <th></th>\n",
       "      <th>purchase_amount</th>\n",
       "    </tr>\n",
       "  </thead>\n",
       "  <tbody>\n",
       "    <tr>\n",
       "      <th>count</th>\n",
       "      <td>6207.000000</td>\n",
       "    </tr>\n",
       "    <tr>\n",
       "      <th>mean</th>\n",
       "      <td>30.035444</td>\n",
       "    </tr>\n",
       "    <tr>\n",
       "      <th>std</th>\n",
       "      <td>14.101013</td>\n",
       "    </tr>\n",
       "    <tr>\n",
       "      <th>min</th>\n",
       "      <td>10.000000</td>\n",
       "    </tr>\n",
       "    <tr>\n",
       "      <th>25%</th>\n",
       "      <td>20.000000</td>\n",
       "    </tr>\n",
       "    <tr>\n",
       "      <th>50%</th>\n",
       "      <td>30.000000</td>\n",
       "    </tr>\n",
       "    <tr>\n",
       "      <th>75%</th>\n",
       "      <td>40.000000</td>\n",
       "    </tr>\n",
       "    <tr>\n",
       "      <th>max</th>\n",
       "      <td>50.000000</td>\n",
       "    </tr>\n",
       "  </tbody>\n",
       "</table>\n",
       "</div>"
      ],
      "text/plain": [
       "       purchase_amount\n",
       "count      6207.000000\n",
       "mean         30.035444\n",
       "std          14.101013\n",
       "min          10.000000\n",
       "25%          20.000000\n",
       "50%          30.000000\n",
       "75%          40.000000\n",
       "max          50.000000"
      ]
     },
     "execution_count": 30,
     "metadata": {},
     "output_type": "execute_result"
    }
   ],
   "source": [
    "df.describe()"
   ]
  },
  {
   "cell_type": "code",
   "execution_count": 31,
   "metadata": {},
   "outputs": [
    {
     "name": "stdout",
     "output_type": "stream",
     "text": [
      "<class 'pandas.core.frame.DataFrame'>\n",
      "RangeIndex: 79742 entries, 0 to 79741\n",
      "Data columns (total 4 columns):\n",
      " #   Column           Non-Null Count  Dtype  \n",
      "---  ------           --------------  -----  \n",
      " 0   user_id          79742 non-null  object \n",
      " 1   event_date       79742 non-null  object \n",
      " 2   event_type       79742 non-null  object \n",
      " 3   purchase_amount  6207 non-null   float64\n",
      "dtypes: float64(1), object(3)\n",
      "memory usage: 2.4+ MB\n"
     ]
    }
   ],
   "source": [
    "df.info()"
   ]
  },
  {
   "cell_type": "code",
   "execution_count": 32,
   "metadata": {},
   "outputs": [
    {
     "data": {
      "text/plain": [
       "user_id             object\n",
       "event_date          object\n",
       "event_type          object\n",
       "purchase_amount    float64\n",
       "dtype: object"
      ]
     },
     "execution_count": 32,
     "metadata": {},
     "output_type": "execute_result"
    }
   ],
   "source": [
    "df.dtypes"
   ]
  },
  {
   "cell_type": "markdown",
   "metadata": {},
   "source": [
    "Converting 'event_date' to `datetime`. We will add a new column 'event_date_datetime' to not overwrite the original columns."
   ]
  },
  {
   "cell_type": "markdown",
   "metadata": {},
   "source": [
    "Since the events are all in 2019, there is no need to distinguish years afterwards in the 'week_number' column."
   ]
  },
  {
   "cell_type": "code",
   "execution_count": 33,
   "metadata": {},
   "outputs": [
    {
     "data": {
      "text/plain": [
       "user_id                        object\n",
       "event_date                     object\n",
       "event_type                     object\n",
       "purchase_amount               float64\n",
       "event_date_datetime    datetime64[ns]\n",
       "dtype: object"
      ]
     },
     "execution_count": 33,
     "metadata": {},
     "output_type": "execute_result"
    }
   ],
   "source": [
    "df['event_date_datetime'] = pd.to_datetime(df['event_date'])\n",
    "df.dtypes"
   ]
  },
  {
   "cell_type": "markdown",
   "metadata": {},
   "source": [
    "First, lets check if all events are happening in the same year."
   ]
  },
  {
   "cell_type": "code",
   "execution_count": 34,
   "metadata": {},
   "outputs": [
    {
     "data": {
      "text/plain": [
       "Timestamp('2019-07-29 00:02:15')"
      ]
     },
     "execution_count": 34,
     "metadata": {},
     "output_type": "execute_result"
    }
   ],
   "source": [
    "df['event_date_datetime'].min()"
   ]
  },
  {
   "cell_type": "code",
   "execution_count": 35,
   "metadata": {},
   "outputs": [
    {
     "data": {
      "text/plain": [
       "Timestamp('2019-09-01 23:59:54')"
      ]
     },
     "execution_count": 35,
     "metadata": {},
     "output_type": "execute_result"
    }
   ],
   "source": [
    "df['event_date_datetime'].max()"
   ]
  },
  {
   "cell_type": "markdown",
   "metadata": {},
   "source": [
    "### 2.Highlight user cohorts based on the week of registration in the application. The cohort identifier should be the week ordinal (for example, the week from July 29 to August 4 should have identifier 31)."
   ]
  },
  {
   "cell_type": "markdown",
   "metadata": {},
   "source": [
    "Creating 'week_number' column using *dt.strftime('%U')*, then converting it to *int* dtype."
   ]
  },
  {
   "cell_type": "code",
   "execution_count": 45,
   "metadata": {},
   "outputs": [
    {
     "data": {
      "text/html": [
       "<div>\n",
       "<style scoped>\n",
       "    .dataframe tbody tr th:only-of-type {\n",
       "        vertical-align: middle;\n",
       "    }\n",
       "\n",
       "    .dataframe tbody tr th {\n",
       "        vertical-align: top;\n",
       "    }\n",
       "\n",
       "    .dataframe thead th {\n",
       "        text-align: right;\n",
       "    }\n",
       "</style>\n",
       "<table border=\"1\" class=\"dataframe\">\n",
       "  <thead>\n",
       "    <tr style=\"text-align: right;\">\n",
       "      <th></th>\n",
       "      <th>user_id</th>\n",
       "      <th>event_date</th>\n",
       "      <th>event_type</th>\n",
       "      <th>purchase_amount</th>\n",
       "      <th>event_date_datetime</th>\n",
       "      <th>week_number_cohort</th>\n",
       "    </tr>\n",
       "  </thead>\n",
       "  <tbody>\n",
       "    <tr>\n",
       "      <th>0</th>\n",
       "      <td>c40e6a</td>\n",
       "      <td>2019-07-29 00:02:15</td>\n",
       "      <td>registration</td>\n",
       "      <td>NaN</td>\n",
       "      <td>2019-07-29 00:02:15</td>\n",
       "      <td>30</td>\n",
       "    </tr>\n",
       "    <tr>\n",
       "      <th>1</th>\n",
       "      <td>a2b682</td>\n",
       "      <td>2019-07-29 00:04:46</td>\n",
       "      <td>registration</td>\n",
       "      <td>NaN</td>\n",
       "      <td>2019-07-29 00:04:46</td>\n",
       "      <td>30</td>\n",
       "    </tr>\n",
       "    <tr>\n",
       "      <th>2</th>\n",
       "      <td>9ac888</td>\n",
       "      <td>2019-07-29 00:13:22</td>\n",
       "      <td>registration</td>\n",
       "      <td>NaN</td>\n",
       "      <td>2019-07-29 00:13:22</td>\n",
       "      <td>30</td>\n",
       "    </tr>\n",
       "    <tr>\n",
       "      <th>3</th>\n",
       "      <td>93ff22</td>\n",
       "      <td>2019-07-29 00:16:47</td>\n",
       "      <td>registration</td>\n",
       "      <td>NaN</td>\n",
       "      <td>2019-07-29 00:16:47</td>\n",
       "      <td>30</td>\n",
       "    </tr>\n",
       "    <tr>\n",
       "      <th>4</th>\n",
       "      <td>65ef85</td>\n",
       "      <td>2019-07-29 00:19:23</td>\n",
       "      <td>registration</td>\n",
       "      <td>NaN</td>\n",
       "      <td>2019-07-29 00:19:23</td>\n",
       "      <td>30</td>\n",
       "    </tr>\n",
       "    <tr>\n",
       "      <th>...</th>\n",
       "      <td>...</td>\n",
       "      <td>...</td>\n",
       "      <td>...</td>\n",
       "      <td>...</td>\n",
       "      <td>...</td>\n",
       "      <td>...</td>\n",
       "    </tr>\n",
       "    <tr>\n",
       "      <th>79737</th>\n",
       "      <td>930c23</td>\n",
       "      <td>2019-09-01 23:57:41</td>\n",
       "      <td>simple_event</td>\n",
       "      <td>NaN</td>\n",
       "      <td>2019-09-01 23:57:41</td>\n",
       "      <td>35</td>\n",
       "    </tr>\n",
       "    <tr>\n",
       "      <th>79738</th>\n",
       "      <td>a84999</td>\n",
       "      <td>2019-09-01 23:57:50</td>\n",
       "      <td>simple_event</td>\n",
       "      <td>NaN</td>\n",
       "      <td>2019-09-01 23:57:50</td>\n",
       "      <td>35</td>\n",
       "    </tr>\n",
       "    <tr>\n",
       "      <th>79739</th>\n",
       "      <td>175e4d</td>\n",
       "      <td>2019-09-01 23:59:40</td>\n",
       "      <td>simple_event</td>\n",
       "      <td>NaN</td>\n",
       "      <td>2019-09-01 23:59:40</td>\n",
       "      <td>35</td>\n",
       "    </tr>\n",
       "    <tr>\n",
       "      <th>79740</th>\n",
       "      <td>1c2210</td>\n",
       "      <td>2019-09-01 23:59:51</td>\n",
       "      <td>simple_event</td>\n",
       "      <td>NaN</td>\n",
       "      <td>2019-09-01 23:59:51</td>\n",
       "      <td>35</td>\n",
       "    </tr>\n",
       "    <tr>\n",
       "      <th>79741</th>\n",
       "      <td>d799dc</td>\n",
       "      <td>2019-09-01 23:59:54</td>\n",
       "      <td>simple_event</td>\n",
       "      <td>NaN</td>\n",
       "      <td>2019-09-01 23:59:54</td>\n",
       "      <td>35</td>\n",
       "    </tr>\n",
       "  </tbody>\n",
       "</table>\n",
       "<p>79742 rows × 6 columns</p>\n",
       "</div>"
      ],
      "text/plain": [
       "      user_id           event_date    event_type  purchase_amount  \\\n",
       "0      c40e6a  2019-07-29 00:02:15  registration              NaN   \n",
       "1      a2b682  2019-07-29 00:04:46  registration              NaN   \n",
       "2      9ac888  2019-07-29 00:13:22  registration              NaN   \n",
       "3      93ff22  2019-07-29 00:16:47  registration              NaN   \n",
       "4      65ef85  2019-07-29 00:19:23  registration              NaN   \n",
       "...       ...                  ...           ...              ...   \n",
       "79737  930c23  2019-09-01 23:57:41  simple_event              NaN   \n",
       "79738  a84999  2019-09-01 23:57:50  simple_event              NaN   \n",
       "79739  175e4d  2019-09-01 23:59:40  simple_event              NaN   \n",
       "79740  1c2210  2019-09-01 23:59:51  simple_event              NaN   \n",
       "79741  d799dc  2019-09-01 23:59:54  simple_event              NaN   \n",
       "\n",
       "      event_date_datetime  week_number_cohort  \n",
       "0     2019-07-29 00:02:15                  30  \n",
       "1     2019-07-29 00:04:46                  30  \n",
       "2     2019-07-29 00:13:22                  30  \n",
       "3     2019-07-29 00:16:47                  30  \n",
       "4     2019-07-29 00:19:23                  30  \n",
       "...                   ...                 ...  \n",
       "79737 2019-09-01 23:57:41                  35  \n",
       "79738 2019-09-01 23:57:50                  35  \n",
       "79739 2019-09-01 23:59:40                  35  \n",
       "79740 2019-09-01 23:59:51                  35  \n",
       "79741 2019-09-01 23:59:54                  35  \n",
       "\n",
       "[79742 rows x 6 columns]"
      ]
     },
     "execution_count": 45,
     "metadata": {},
     "output_type": "execute_result"
    }
   ],
   "source": [
    "df['week_number_cohort'] = df['event_date_datetime'].dt.strftime('%U').astype(int)\n",
    "df"
   ]
  },
  {
   "cell_type": "markdown",
   "metadata": {},
   "source": [
    "### 3. How many unique users in the cohort with ID 33?"
   ]
  },
  {
   "cell_type": "markdown",
   "metadata": {},
   "source": [
    "We need to first .query() or filter the dataframe to 'week_number_cohort'==33. Then, we calculate the count of unique user_id using np.nunique()."
   ]
  },
  {
   "cell_type": "code",
   "execution_count": 46,
   "metadata": {},
   "outputs": [
    {
     "name": "stdout",
     "output_type": "stream",
     "text": [
      "There are 5776 in the ID 33 week cohort\n"
     ]
    }
   ],
   "source": [
    "unique_users_id_33 = df.query('week_number_cohort==33')['user_id'].nunique()\n",
    "\n",
    "print(f'There are {unique_users_id_33} in the ID 33 week cohort')"
   ]
  },
  {
   "cell_type": "markdown",
   "metadata": {},
   "source": [
    "### 4. For each event, highlight the indicator lifetime - the weekly lifetime of the cohort. The lifetime indicator is calculated based on the serial number of the week in which the event is committed, relative to the week of registration. For example, an event committed on August 3 by a user from a cohort of registrants at 31 weeks will be committed on the zero week of lifetime, and an event committed by the same user on August 5 will be committed on the first week of lifetime."
   ]
  },
  {
   "cell_type": "markdown",
   "metadata": {},
   "source": [
    "Given that the first/minimal week time cohort will be given when the user df['event_type'] = 'registration', from there we can calculate how many weeks past the registration the event happened.\n",
    "To do so, we groupby the user_id and calculate based on the df['week_number_cohort'] column.\n",
    ".transform() will allow us to calculate the delta between the first week of registration and the event week."
   ]
  },
  {
   "cell_type": "code",
   "execution_count": 49,
   "metadata": {},
   "outputs": [],
   "source": [
    "df['indicator_lifetime'] = df.groupby('user_id')['week_number_cohort'].transform(lambda x: x - x.min())\n"
   ]
  },
  {
   "cell_type": "code",
   "execution_count": 50,
   "metadata": {},
   "outputs": [
    {
     "data": {
      "text/html": [
       "<div>\n",
       "<style scoped>\n",
       "    .dataframe tbody tr th:only-of-type {\n",
       "        vertical-align: middle;\n",
       "    }\n",
       "\n",
       "    .dataframe tbody tr th {\n",
       "        vertical-align: top;\n",
       "    }\n",
       "\n",
       "    .dataframe thead th {\n",
       "        text-align: right;\n",
       "    }\n",
       "</style>\n",
       "<table border=\"1\" class=\"dataframe\">\n",
       "  <thead>\n",
       "    <tr style=\"text-align: right;\">\n",
       "      <th></th>\n",
       "      <th>user_id</th>\n",
       "      <th>event_date</th>\n",
       "      <th>event_type</th>\n",
       "      <th>purchase_amount</th>\n",
       "      <th>event_date_datetime</th>\n",
       "      <th>week_number_cohort</th>\n",
       "      <th>indicator_lifetime</th>\n",
       "    </tr>\n",
       "  </thead>\n",
       "  <tbody>\n",
       "    <tr>\n",
       "      <th>0</th>\n",
       "      <td>c40e6a</td>\n",
       "      <td>2019-07-29 00:02:15</td>\n",
       "      <td>registration</td>\n",
       "      <td>NaN</td>\n",
       "      <td>2019-07-29 00:02:15</td>\n",
       "      <td>30</td>\n",
       "      <td>0</td>\n",
       "    </tr>\n",
       "    <tr>\n",
       "      <th>1</th>\n",
       "      <td>a2b682</td>\n",
       "      <td>2019-07-29 00:04:46</td>\n",
       "      <td>registration</td>\n",
       "      <td>NaN</td>\n",
       "      <td>2019-07-29 00:04:46</td>\n",
       "      <td>30</td>\n",
       "      <td>0</td>\n",
       "    </tr>\n",
       "    <tr>\n",
       "      <th>2</th>\n",
       "      <td>9ac888</td>\n",
       "      <td>2019-07-29 00:13:22</td>\n",
       "      <td>registration</td>\n",
       "      <td>NaN</td>\n",
       "      <td>2019-07-29 00:13:22</td>\n",
       "      <td>30</td>\n",
       "      <td>0</td>\n",
       "    </tr>\n",
       "    <tr>\n",
       "      <th>3</th>\n",
       "      <td>93ff22</td>\n",
       "      <td>2019-07-29 00:16:47</td>\n",
       "      <td>registration</td>\n",
       "      <td>NaN</td>\n",
       "      <td>2019-07-29 00:16:47</td>\n",
       "      <td>30</td>\n",
       "      <td>0</td>\n",
       "    </tr>\n",
       "    <tr>\n",
       "      <th>4</th>\n",
       "      <td>65ef85</td>\n",
       "      <td>2019-07-29 00:19:23</td>\n",
       "      <td>registration</td>\n",
       "      <td>NaN</td>\n",
       "      <td>2019-07-29 00:19:23</td>\n",
       "      <td>30</td>\n",
       "      <td>0</td>\n",
       "    </tr>\n",
       "    <tr>\n",
       "      <th>...</th>\n",
       "      <td>...</td>\n",
       "      <td>...</td>\n",
       "      <td>...</td>\n",
       "      <td>...</td>\n",
       "      <td>...</td>\n",
       "      <td>...</td>\n",
       "      <td>...</td>\n",
       "    </tr>\n",
       "    <tr>\n",
       "      <th>79737</th>\n",
       "      <td>930c23</td>\n",
       "      <td>2019-09-01 23:57:41</td>\n",
       "      <td>simple_event</td>\n",
       "      <td>NaN</td>\n",
       "      <td>2019-09-01 23:57:41</td>\n",
       "      <td>35</td>\n",
       "      <td>4</td>\n",
       "    </tr>\n",
       "    <tr>\n",
       "      <th>79738</th>\n",
       "      <td>a84999</td>\n",
       "      <td>2019-09-01 23:57:50</td>\n",
       "      <td>simple_event</td>\n",
       "      <td>NaN</td>\n",
       "      <td>2019-09-01 23:57:50</td>\n",
       "      <td>35</td>\n",
       "      <td>3</td>\n",
       "    </tr>\n",
       "    <tr>\n",
       "      <th>79739</th>\n",
       "      <td>175e4d</td>\n",
       "      <td>2019-09-01 23:59:40</td>\n",
       "      <td>simple_event</td>\n",
       "      <td>NaN</td>\n",
       "      <td>2019-09-01 23:59:40</td>\n",
       "      <td>35</td>\n",
       "      <td>4</td>\n",
       "    </tr>\n",
       "    <tr>\n",
       "      <th>79740</th>\n",
       "      <td>1c2210</td>\n",
       "      <td>2019-09-01 23:59:51</td>\n",
       "      <td>simple_event</td>\n",
       "      <td>NaN</td>\n",
       "      <td>2019-09-01 23:59:51</td>\n",
       "      <td>35</td>\n",
       "      <td>3</td>\n",
       "    </tr>\n",
       "    <tr>\n",
       "      <th>79741</th>\n",
       "      <td>d799dc</td>\n",
       "      <td>2019-09-01 23:59:54</td>\n",
       "      <td>simple_event</td>\n",
       "      <td>NaN</td>\n",
       "      <td>2019-09-01 23:59:54</td>\n",
       "      <td>35</td>\n",
       "      <td>1</td>\n",
       "    </tr>\n",
       "  </tbody>\n",
       "</table>\n",
       "<p>79742 rows × 7 columns</p>\n",
       "</div>"
      ],
      "text/plain": [
       "      user_id           event_date    event_type  purchase_amount  \\\n",
       "0      c40e6a  2019-07-29 00:02:15  registration              NaN   \n",
       "1      a2b682  2019-07-29 00:04:46  registration              NaN   \n",
       "2      9ac888  2019-07-29 00:13:22  registration              NaN   \n",
       "3      93ff22  2019-07-29 00:16:47  registration              NaN   \n",
       "4      65ef85  2019-07-29 00:19:23  registration              NaN   \n",
       "...       ...                  ...           ...              ...   \n",
       "79737  930c23  2019-09-01 23:57:41  simple_event              NaN   \n",
       "79738  a84999  2019-09-01 23:57:50  simple_event              NaN   \n",
       "79739  175e4d  2019-09-01 23:59:40  simple_event              NaN   \n",
       "79740  1c2210  2019-09-01 23:59:51  simple_event              NaN   \n",
       "79741  d799dc  2019-09-01 23:59:54  simple_event              NaN   \n",
       "\n",
       "      event_date_datetime  week_number_cohort  indicator_lifetime  \n",
       "0     2019-07-29 00:02:15                  30                   0  \n",
       "1     2019-07-29 00:04:46                  30                   0  \n",
       "2     2019-07-29 00:13:22                  30                   0  \n",
       "3     2019-07-29 00:16:47                  30                   0  \n",
       "4     2019-07-29 00:19:23                  30                   0  \n",
       "...                   ...                 ...                 ...  \n",
       "79737 2019-09-01 23:57:41                  35                   4  \n",
       "79738 2019-09-01 23:57:50                  35                   3  \n",
       "79739 2019-09-01 23:59:40                  35                   4  \n",
       "79740 2019-09-01 23:59:51                  35                   3  \n",
       "79741 2019-09-01 23:59:54                  35                   1  \n",
       "\n",
       "[79742 rows x 7 columns]"
      ]
     },
     "execution_count": 50,
     "metadata": {},
     "output_type": "execute_result"
    }
   ],
   "source": [
    "df"
   ]
  },
  {
   "cell_type": "markdown",
   "metadata": {},
   "source": [
    "### 4. Build a summary table of changes in the Retention Rate for cohorts depending on lifetime."
   ]
  },
  {
   "cell_type": "markdown",
   "metadata": {},
   "source": [
    "Let's calculate it by grouping both the 'week_number_cohort' and the 'indicator_lifetime', and then counting the unique 'user_id' in that grouping."
   ]
  },
  {
   "cell_type": "code",
   "execution_count": 59,
   "metadata": {},
   "outputs": [
    {
     "data": {
      "text/html": [
       "<div>\n",
       "<style scoped>\n",
       "    .dataframe tbody tr th:only-of-type {\n",
       "        vertical-align: middle;\n",
       "    }\n",
       "\n",
       "    .dataframe tbody tr th {\n",
       "        vertical-align: top;\n",
       "    }\n",
       "\n",
       "    .dataframe thead th {\n",
       "        text-align: right;\n",
       "    }\n",
       "</style>\n",
       "<table border=\"1\" class=\"dataframe\">\n",
       "  <thead>\n",
       "    <tr style=\"text-align: right;\">\n",
       "      <th></th>\n",
       "      <th></th>\n",
       "      <th>user_id</th>\n",
       "    </tr>\n",
       "    <tr>\n",
       "      <th>week_number_cohort</th>\n",
       "      <th>indicator_lifetime</th>\n",
       "      <th></th>\n",
       "    </tr>\n",
       "  </thead>\n",
       "  <tbody>\n",
       "    <tr>\n",
       "      <th>30</th>\n",
       "      <th>0</th>\n",
       "      <td>1675</td>\n",
       "    </tr>\n",
       "    <tr>\n",
       "      <th rowspan=\"2\" valign=\"top\">31</th>\n",
       "      <th>0</th>\n",
       "      <td>1997</td>\n",
       "    </tr>\n",
       "    <tr>\n",
       "      <th>1</th>\n",
       "      <td>1576</td>\n",
       "    </tr>\n",
       "    <tr>\n",
       "      <th rowspan=\"3\" valign=\"top\">32</th>\n",
       "      <th>0</th>\n",
       "      <td>2003</td>\n",
       "    </tr>\n",
       "    <tr>\n",
       "      <th>1</th>\n",
       "      <td>1853</td>\n",
       "    </tr>\n",
       "    <tr>\n",
       "      <th>2</th>\n",
       "      <td>1087</td>\n",
       "    </tr>\n",
       "    <tr>\n",
       "      <th rowspan=\"4\" valign=\"top\">33</th>\n",
       "      <th>0</th>\n",
       "      <td>1985</td>\n",
       "    </tr>\n",
       "    <tr>\n",
       "      <th>1</th>\n",
       "      <td>1858</td>\n",
       "    </tr>\n",
       "    <tr>\n",
       "      <th>2</th>\n",
       "      <td>1316</td>\n",
       "    </tr>\n",
       "    <tr>\n",
       "      <th>3</th>\n",
       "      <td>617</td>\n",
       "    </tr>\n",
       "    <tr>\n",
       "      <th rowspan=\"5\" valign=\"top\">34</th>\n",
       "      <th>0</th>\n",
       "      <td>2043</td>\n",
       "    </tr>\n",
       "    <tr>\n",
       "      <th>1</th>\n",
       "      <td>1848</td>\n",
       "    </tr>\n",
       "    <tr>\n",
       "      <th>2</th>\n",
       "      <td>1327</td>\n",
       "    </tr>\n",
       "    <tr>\n",
       "      <th>3</th>\n",
       "      <td>718</td>\n",
       "    </tr>\n",
       "    <tr>\n",
       "      <th>4</th>\n",
       "      <td>257</td>\n",
       "    </tr>\n",
       "    <tr>\n",
       "      <th rowspan=\"6\" valign=\"top\">35</th>\n",
       "      <th>0</th>\n",
       "      <td>293</td>\n",
       "    </tr>\n",
       "    <tr>\n",
       "      <th>1</th>\n",
       "      <td>1017</td>\n",
       "    </tr>\n",
       "    <tr>\n",
       "      <th>2</th>\n",
       "      <td>707</td>\n",
       "    </tr>\n",
       "    <tr>\n",
       "      <th>3</th>\n",
       "      <td>451</td>\n",
       "    </tr>\n",
       "    <tr>\n",
       "      <th>4</th>\n",
       "      <td>199</td>\n",
       "    </tr>\n",
       "    <tr>\n",
       "      <th>5</th>\n",
       "      <td>36</td>\n",
       "    </tr>\n",
       "  </tbody>\n",
       "</table>\n",
       "</div>"
      ],
      "text/plain": [
       "                                       user_id\n",
       "week_number_cohort indicator_lifetime         \n",
       "30                 0                      1675\n",
       "31                 0                      1997\n",
       "                   1                      1576\n",
       "32                 0                      2003\n",
       "                   1                      1853\n",
       "                   2                      1087\n",
       "33                 0                      1985\n",
       "                   1                      1858\n",
       "                   2                      1316\n",
       "                   3                       617\n",
       "34                 0                      2043\n",
       "                   1                      1848\n",
       "                   2                      1327\n",
       "                   3                       718\n",
       "                   4                       257\n",
       "35                 0                       293\n",
       "                   1                      1017\n",
       "                   2                       707\n",
       "                   3                       451\n",
       "                   4                       199\n",
       "                   5                        36"
      ]
     },
     "execution_count": 59,
     "metadata": {},
     "output_type": "execute_result"
    }
   ],
   "source": [
    "summary = pd.DataFrame(df.groupby(['week_number_cohort','indicator_lifetime'])['user_id'].nunique())\n",
    "summary"
   ]
  },
  {
   "cell_type": "markdown",
   "metadata": {},
   "source": [
    "### 6. What is the 3 week retention rate for a cohort with ID 32? Give the answer in percent, rounded to 2 decimal places, inclusive."
   ]
  },
  {
   "cell_type": "markdown",
   "metadata": {},
   "source": [
    "Unstacking the summary table to better understand the usage."
   ]
  },
  {
   "cell_type": "code",
   "execution_count": 61,
   "metadata": {},
   "outputs": [
    {
     "data": {
      "text/html": [
       "<div>\n",
       "<style scoped>\n",
       "    .dataframe tbody tr th:only-of-type {\n",
       "        vertical-align: middle;\n",
       "    }\n",
       "\n",
       "    .dataframe tbody tr th {\n",
       "        vertical-align: top;\n",
       "    }\n",
       "\n",
       "    .dataframe thead tr th {\n",
       "        text-align: left;\n",
       "    }\n",
       "\n",
       "    .dataframe thead tr:last-of-type th {\n",
       "        text-align: right;\n",
       "    }\n",
       "</style>\n",
       "<table border=\"1\" class=\"dataframe\">\n",
       "  <thead>\n",
       "    <tr>\n",
       "      <th></th>\n",
       "      <th colspan=\"6\" halign=\"left\">user_id</th>\n",
       "    </tr>\n",
       "    <tr>\n",
       "      <th>indicator_lifetime</th>\n",
       "      <th>0</th>\n",
       "      <th>1</th>\n",
       "      <th>2</th>\n",
       "      <th>3</th>\n",
       "      <th>4</th>\n",
       "      <th>5</th>\n",
       "    </tr>\n",
       "    <tr>\n",
       "      <th>week_number_cohort</th>\n",
       "      <th></th>\n",
       "      <th></th>\n",
       "      <th></th>\n",
       "      <th></th>\n",
       "      <th></th>\n",
       "      <th></th>\n",
       "    </tr>\n",
       "  </thead>\n",
       "  <tbody>\n",
       "    <tr>\n",
       "      <th>30</th>\n",
       "      <td>1675.0</td>\n",
       "      <td>NaN</td>\n",
       "      <td>NaN</td>\n",
       "      <td>NaN</td>\n",
       "      <td>NaN</td>\n",
       "      <td>NaN</td>\n",
       "    </tr>\n",
       "    <tr>\n",
       "      <th>31</th>\n",
       "      <td>1997.0</td>\n",
       "      <td>1576.0</td>\n",
       "      <td>NaN</td>\n",
       "      <td>NaN</td>\n",
       "      <td>NaN</td>\n",
       "      <td>NaN</td>\n",
       "    </tr>\n",
       "    <tr>\n",
       "      <th>32</th>\n",
       "      <td>2003.0</td>\n",
       "      <td>1853.0</td>\n",
       "      <td>1087.0</td>\n",
       "      <td>NaN</td>\n",
       "      <td>NaN</td>\n",
       "      <td>NaN</td>\n",
       "    </tr>\n",
       "    <tr>\n",
       "      <th>33</th>\n",
       "      <td>1985.0</td>\n",
       "      <td>1858.0</td>\n",
       "      <td>1316.0</td>\n",
       "      <td>617.0</td>\n",
       "      <td>NaN</td>\n",
       "      <td>NaN</td>\n",
       "    </tr>\n",
       "    <tr>\n",
       "      <th>34</th>\n",
       "      <td>2043.0</td>\n",
       "      <td>1848.0</td>\n",
       "      <td>1327.0</td>\n",
       "      <td>718.0</td>\n",
       "      <td>257.0</td>\n",
       "      <td>NaN</td>\n",
       "    </tr>\n",
       "    <tr>\n",
       "      <th>35</th>\n",
       "      <td>293.0</td>\n",
       "      <td>1017.0</td>\n",
       "      <td>707.0</td>\n",
       "      <td>451.0</td>\n",
       "      <td>199.0</td>\n",
       "      <td>36.0</td>\n",
       "    </tr>\n",
       "  </tbody>\n",
       "</table>\n",
       "</div>"
      ],
      "text/plain": [
       "                   user_id                                    \n",
       "indicator_lifetime       0       1       2      3      4     5\n",
       "week_number_cohort                                            \n",
       "30                  1675.0     NaN     NaN    NaN    NaN   NaN\n",
       "31                  1997.0  1576.0     NaN    NaN    NaN   NaN\n",
       "32                  2003.0  1853.0  1087.0    NaN    NaN   NaN\n",
       "33                  1985.0  1858.0  1316.0  617.0    NaN   NaN\n",
       "34                  2043.0  1848.0  1327.0  718.0  257.0   NaN\n",
       "35                   293.0  1017.0   707.0  451.0  199.0  36.0"
      ]
     },
     "execution_count": 61,
     "metadata": {},
     "output_type": "execute_result"
    }
   ],
   "source": [
    "uns_summary = summary.unstack()\n",
    "uns_summary"
   ]
  },
  {
   "cell_type": "markdown",
   "metadata": {},
   "source": [
    "The 3 week retention is given by diving the usage of users that first registered in the week 32 (2003) and still used the app three weeks later, where the 'indicator_lifetime' is 3 (617)."
   ]
  },
  {
   "cell_type": "code",
   "execution_count": 67,
   "metadata": {},
   "outputs": [
    {
     "name": "stdout",
     "output_type": "stream",
     "text": [
      "The three week retention rate for the cohort 32 is 0.31\n"
     ]
    }
   ],
   "source": [
    "print(f'The three week retention rate for the cohort 32 is {round(617/2003,2)}')"
   ]
  },
  {
   "cell_type": "markdown",
   "metadata": {},
   "source": [
    "### 7. Build a summary table of changes in the indicator ARPPU (Average Revenue Per Paying User) for cohorts depending on lifetime."
   ]
  },
  {
   "cell_type": "markdown",
   "metadata": {},
   "source": [
    "To do so, let's group by the dataframe by the 'week_number_cohort', the 'lifetime_indicator' and sum the purchase ammount to get each week lifetime indicator revenue. Then, we compare it against paying users by filtering out unique users that did not make a purchase *(purchase_amount>0)*"
   ]
  },
  {
   "cell_type": "code",
   "execution_count": 121,
   "metadata": {},
   "outputs": [
    {
     "data": {
      "text/plain": [
       "week_number_cohort  indicator_lifetime\n",
       "30                  0                      6010.0\n",
       "31                  0                     10970.0\n",
       "                    1                     17430.0\n",
       "32                  0                      9380.0\n",
       "                    1                     21670.0\n",
       "                    2                     10910.0\n",
       "33                  0                     10350.0\n",
       "                    1                     20410.0\n",
       "                    2                     13310.0\n",
       "                    3                      5650.0\n",
       "34                  0                     11260.0\n",
       "                    1                     19250.0\n",
       "                    2                     13370.0\n",
       "                    3                      6270.0\n",
       "                    4                      1840.0\n",
       "35                  0                       310.0\n",
       "                    1                      3310.0\n",
       "                    2                      2010.0\n",
       "                    3                      1840.0\n",
       "                    4                       760.0\n",
       "                    5                       120.0\n",
       "Name: purchase_amount, dtype: float64"
      ]
     },
     "execution_count": 121,
     "metadata": {},
     "output_type": "execute_result"
    }
   ],
   "source": [
    "# Calculate the ARPPU for each cohort and lifetime week\n",
    "lifetime_rev_week = df.groupby(['week_number_cohort', 'indicator_lifetime'])['purchase_amount'].sum()\n",
    "lifetime_rev_week\n"
   ]
  },
  {
   "cell_type": "code",
   "execution_count": 122,
   "metadata": {},
   "outputs": [
    {
     "data": {
      "text/html": [
       "<div>\n",
       "<style scoped>\n",
       "    .dataframe tbody tr th:only-of-type {\n",
       "        vertical-align: middle;\n",
       "    }\n",
       "\n",
       "    .dataframe tbody tr th {\n",
       "        vertical-align: top;\n",
       "    }\n",
       "\n",
       "    .dataframe thead th {\n",
       "        text-align: right;\n",
       "    }\n",
       "</style>\n",
       "<table border=\"1\" class=\"dataframe\">\n",
       "  <thead>\n",
       "    <tr style=\"text-align: right;\">\n",
       "      <th>indicator_lifetime</th>\n",
       "      <th>0</th>\n",
       "      <th>1</th>\n",
       "      <th>2</th>\n",
       "      <th>3</th>\n",
       "      <th>4</th>\n",
       "      <th>5</th>\n",
       "    </tr>\n",
       "    <tr>\n",
       "      <th>week_number_cohort</th>\n",
       "      <th></th>\n",
       "      <th></th>\n",
       "      <th></th>\n",
       "      <th></th>\n",
       "      <th></th>\n",
       "      <th></th>\n",
       "    </tr>\n",
       "  </thead>\n",
       "  <tbody>\n",
       "    <tr>\n",
       "      <th>30</th>\n",
       "      <td>6010.0</td>\n",
       "      <td>NaN</td>\n",
       "      <td>NaN</td>\n",
       "      <td>NaN</td>\n",
       "      <td>NaN</td>\n",
       "      <td>NaN</td>\n",
       "    </tr>\n",
       "    <tr>\n",
       "      <th>31</th>\n",
       "      <td>10970.0</td>\n",
       "      <td>17430.0</td>\n",
       "      <td>NaN</td>\n",
       "      <td>NaN</td>\n",
       "      <td>NaN</td>\n",
       "      <td>NaN</td>\n",
       "    </tr>\n",
       "    <tr>\n",
       "      <th>32</th>\n",
       "      <td>9380.0</td>\n",
       "      <td>21670.0</td>\n",
       "      <td>10910.0</td>\n",
       "      <td>NaN</td>\n",
       "      <td>NaN</td>\n",
       "      <td>NaN</td>\n",
       "    </tr>\n",
       "    <tr>\n",
       "      <th>33</th>\n",
       "      <td>10350.0</td>\n",
       "      <td>20410.0</td>\n",
       "      <td>13310.0</td>\n",
       "      <td>5650.0</td>\n",
       "      <td>NaN</td>\n",
       "      <td>NaN</td>\n",
       "    </tr>\n",
       "    <tr>\n",
       "      <th>34</th>\n",
       "      <td>11260.0</td>\n",
       "      <td>19250.0</td>\n",
       "      <td>13370.0</td>\n",
       "      <td>6270.0</td>\n",
       "      <td>1840.0</td>\n",
       "      <td>NaN</td>\n",
       "    </tr>\n",
       "    <tr>\n",
       "      <th>35</th>\n",
       "      <td>310.0</td>\n",
       "      <td>3310.0</td>\n",
       "      <td>2010.0</td>\n",
       "      <td>1840.0</td>\n",
       "      <td>760.0</td>\n",
       "      <td>120.0</td>\n",
       "    </tr>\n",
       "  </tbody>\n",
       "</table>\n",
       "</div>"
      ],
      "text/plain": [
       "indicator_lifetime        0        1        2       3       4      5\n",
       "week_number_cohort                                                  \n",
       "30                   6010.0      NaN      NaN     NaN     NaN    NaN\n",
       "31                  10970.0  17430.0      NaN     NaN     NaN    NaN\n",
       "32                   9380.0  21670.0  10910.0     NaN     NaN    NaN\n",
       "33                  10350.0  20410.0  13310.0  5650.0     NaN    NaN\n",
       "34                  11260.0  19250.0  13370.0  6270.0  1840.0    NaN\n",
       "35                    310.0   3310.0   2010.0  1840.0   760.0  120.0"
      ]
     },
     "execution_count": 122,
     "metadata": {},
     "output_type": "execute_result"
    }
   ],
   "source": [
    "uns_lifetime_rev_week = lifetime_rev_week.unstack()\n",
    "uns_lifetime_rev_week"
   ]
  },
  {
   "cell_type": "code",
   "execution_count": 124,
   "metadata": {},
   "outputs": [
    {
     "data": {
      "text/plain": [
       "week_number_cohort  indicator_lifetime\n",
       "30                  0                     200\n",
       "31                  0                     326\n",
       "                    1                     505\n",
       "32                  0                     289\n",
       "                    1                     611\n",
       "                    2                     305\n",
       "33                  0                     301\n",
       "                    1                     586\n",
       "                    2                     368\n",
       "                    3                     164\n",
       "34                  0                     334\n",
       "                    1                     543\n",
       "                    2                     382\n",
       "                    3                     191\n",
       "                    4                      59\n",
       "35                  0                       8\n",
       "                    1                     108\n",
       "                    2                      59\n",
       "                    3                      58\n",
       "                    4                      23\n",
       "                    5                       3\n",
       "Name: user_id, dtype: int64"
      ]
     },
     "execution_count": 124,
     "metadata": {},
     "output_type": "execute_result"
    }
   ],
   "source": [
    "paying_users_lifetime = df.query('purchase_amount>0').groupby(['week_number_cohort', 'indicator_lifetime'])['user_id'].nunique()\n",
    "paying_users_lifetime"
   ]
  },
  {
   "cell_type": "code",
   "execution_count": 125,
   "metadata": {},
   "outputs": [
    {
     "data": {
      "text/html": [
       "<div>\n",
       "<style scoped>\n",
       "    .dataframe tbody tr th:only-of-type {\n",
       "        vertical-align: middle;\n",
       "    }\n",
       "\n",
       "    .dataframe tbody tr th {\n",
       "        vertical-align: top;\n",
       "    }\n",
       "\n",
       "    .dataframe thead th {\n",
       "        text-align: right;\n",
       "    }\n",
       "</style>\n",
       "<table border=\"1\" class=\"dataframe\">\n",
       "  <thead>\n",
       "    <tr style=\"text-align: right;\">\n",
       "      <th>indicator_lifetime</th>\n",
       "      <th>0</th>\n",
       "      <th>1</th>\n",
       "      <th>2</th>\n",
       "      <th>3</th>\n",
       "      <th>4</th>\n",
       "      <th>5</th>\n",
       "    </tr>\n",
       "    <tr>\n",
       "      <th>week_number_cohort</th>\n",
       "      <th></th>\n",
       "      <th></th>\n",
       "      <th></th>\n",
       "      <th></th>\n",
       "      <th></th>\n",
       "      <th></th>\n",
       "    </tr>\n",
       "  </thead>\n",
       "  <tbody>\n",
       "    <tr>\n",
       "      <th>30</th>\n",
       "      <td>200.0</td>\n",
       "      <td>NaN</td>\n",
       "      <td>NaN</td>\n",
       "      <td>NaN</td>\n",
       "      <td>NaN</td>\n",
       "      <td>NaN</td>\n",
       "    </tr>\n",
       "    <tr>\n",
       "      <th>31</th>\n",
       "      <td>326.0</td>\n",
       "      <td>505.0</td>\n",
       "      <td>NaN</td>\n",
       "      <td>NaN</td>\n",
       "      <td>NaN</td>\n",
       "      <td>NaN</td>\n",
       "    </tr>\n",
       "    <tr>\n",
       "      <th>32</th>\n",
       "      <td>289.0</td>\n",
       "      <td>611.0</td>\n",
       "      <td>305.0</td>\n",
       "      <td>NaN</td>\n",
       "      <td>NaN</td>\n",
       "      <td>NaN</td>\n",
       "    </tr>\n",
       "    <tr>\n",
       "      <th>33</th>\n",
       "      <td>301.0</td>\n",
       "      <td>586.0</td>\n",
       "      <td>368.0</td>\n",
       "      <td>164.0</td>\n",
       "      <td>NaN</td>\n",
       "      <td>NaN</td>\n",
       "    </tr>\n",
       "    <tr>\n",
       "      <th>34</th>\n",
       "      <td>334.0</td>\n",
       "      <td>543.0</td>\n",
       "      <td>382.0</td>\n",
       "      <td>191.0</td>\n",
       "      <td>59.0</td>\n",
       "      <td>NaN</td>\n",
       "    </tr>\n",
       "    <tr>\n",
       "      <th>35</th>\n",
       "      <td>8.0</td>\n",
       "      <td>108.0</td>\n",
       "      <td>59.0</td>\n",
       "      <td>58.0</td>\n",
       "      <td>23.0</td>\n",
       "      <td>3.0</td>\n",
       "    </tr>\n",
       "  </tbody>\n",
       "</table>\n",
       "</div>"
      ],
      "text/plain": [
       "indicator_lifetime      0      1      2      3     4    5\n",
       "week_number_cohort                                       \n",
       "30                  200.0    NaN    NaN    NaN   NaN  NaN\n",
       "31                  326.0  505.0    NaN    NaN   NaN  NaN\n",
       "32                  289.0  611.0  305.0    NaN   NaN  NaN\n",
       "33                  301.0  586.0  368.0  164.0   NaN  NaN\n",
       "34                  334.0  543.0  382.0  191.0  59.0  NaN\n",
       "35                    8.0  108.0   59.0   58.0  23.0  3.0"
      ]
     },
     "execution_count": 125,
     "metadata": {},
     "output_type": "execute_result"
    }
   ],
   "source": [
    "uns_paying_users_lifetime = paying_users_lifetime.unstack()\n",
    "uns_paying_users_lifetime"
   ]
  },
  {
   "cell_type": "markdown",
   "metadata": {},
   "source": [
    "To divide tables both with two indexes, do not call pd.DataFrame beforehand - instead leave them as tables and then call it afterwards"
   ]
  },
  {
   "cell_type": "code",
   "execution_count": 131,
   "metadata": {},
   "outputs": [
    {
     "data": {
      "text/html": [
       "<div>\n",
       "<style scoped>\n",
       "    .dataframe tbody tr th:only-of-type {\n",
       "        vertical-align: middle;\n",
       "    }\n",
       "\n",
       "    .dataframe tbody tr th {\n",
       "        vertical-align: top;\n",
       "    }\n",
       "\n",
       "    .dataframe thead th {\n",
       "        text-align: right;\n",
       "    }\n",
       "</style>\n",
       "<table border=\"1\" class=\"dataframe\">\n",
       "  <thead>\n",
       "    <tr style=\"text-align: right;\">\n",
       "      <th></th>\n",
       "      <th></th>\n",
       "      <th>arrpu</th>\n",
       "    </tr>\n",
       "    <tr>\n",
       "      <th>week_number_cohort</th>\n",
       "      <th>indicator_lifetime</th>\n",
       "      <th></th>\n",
       "    </tr>\n",
       "  </thead>\n",
       "  <tbody>\n",
       "    <tr>\n",
       "      <th>30</th>\n",
       "      <th>0</th>\n",
       "      <td>30.050000</td>\n",
       "    </tr>\n",
       "    <tr>\n",
       "      <th rowspan=\"2\" valign=\"top\">31</th>\n",
       "      <th>0</th>\n",
       "      <td>33.650307</td>\n",
       "    </tr>\n",
       "    <tr>\n",
       "      <th>1</th>\n",
       "      <td>34.514851</td>\n",
       "    </tr>\n",
       "    <tr>\n",
       "      <th rowspan=\"3\" valign=\"top\">32</th>\n",
       "      <th>0</th>\n",
       "      <td>32.456747</td>\n",
       "    </tr>\n",
       "    <tr>\n",
       "      <th>1</th>\n",
       "      <td>35.466448</td>\n",
       "    </tr>\n",
       "    <tr>\n",
       "      <th>2</th>\n",
       "      <td>35.770492</td>\n",
       "    </tr>\n",
       "    <tr>\n",
       "      <th rowspan=\"4\" valign=\"top\">33</th>\n",
       "      <th>0</th>\n",
       "      <td>34.385382</td>\n",
       "    </tr>\n",
       "    <tr>\n",
       "      <th>1</th>\n",
       "      <td>34.829352</td>\n",
       "    </tr>\n",
       "    <tr>\n",
       "      <th>2</th>\n",
       "      <td>36.168478</td>\n",
       "    </tr>\n",
       "    <tr>\n",
       "      <th>3</th>\n",
       "      <td>34.451220</td>\n",
       "    </tr>\n",
       "    <tr>\n",
       "      <th rowspan=\"5\" valign=\"top\">34</th>\n",
       "      <th>0</th>\n",
       "      <td>33.712575</td>\n",
       "    </tr>\n",
       "    <tr>\n",
       "      <th>1</th>\n",
       "      <td>35.451197</td>\n",
       "    </tr>\n",
       "    <tr>\n",
       "      <th>2</th>\n",
       "      <td>35.000000</td>\n",
       "    </tr>\n",
       "    <tr>\n",
       "      <th>3</th>\n",
       "      <td>32.827225</td>\n",
       "    </tr>\n",
       "    <tr>\n",
       "      <th>4</th>\n",
       "      <td>31.186441</td>\n",
       "    </tr>\n",
       "    <tr>\n",
       "      <th rowspan=\"6\" valign=\"top\">35</th>\n",
       "      <th>0</th>\n",
       "      <td>38.750000</td>\n",
       "    </tr>\n",
       "    <tr>\n",
       "      <th>1</th>\n",
       "      <td>30.648148</td>\n",
       "    </tr>\n",
       "    <tr>\n",
       "      <th>2</th>\n",
       "      <td>34.067797</td>\n",
       "    </tr>\n",
       "    <tr>\n",
       "      <th>3</th>\n",
       "      <td>31.724138</td>\n",
       "    </tr>\n",
       "    <tr>\n",
       "      <th>4</th>\n",
       "      <td>33.043478</td>\n",
       "    </tr>\n",
       "    <tr>\n",
       "      <th>5</th>\n",
       "      <td>40.000000</td>\n",
       "    </tr>\n",
       "  </tbody>\n",
       "</table>\n",
       "</div>"
      ],
      "text/plain": [
       "                                           arrpu\n",
       "week_number_cohort indicator_lifetime           \n",
       "30                 0                   30.050000\n",
       "31                 0                   33.650307\n",
       "                   1                   34.514851\n",
       "32                 0                   32.456747\n",
       "                   1                   35.466448\n",
       "                   2                   35.770492\n",
       "33                 0                   34.385382\n",
       "                   1                   34.829352\n",
       "                   2                   36.168478\n",
       "                   3                   34.451220\n",
       "34                 0                   33.712575\n",
       "                   1                   35.451197\n",
       "                   2                   35.000000\n",
       "                   3                   32.827225\n",
       "                   4                   31.186441\n",
       "35                 0                   38.750000\n",
       "                   1                   30.648148\n",
       "                   2                   34.067797\n",
       "                   3                   31.724138\n",
       "                   4                   33.043478\n",
       "                   5                   40.000000"
      ]
     },
     "execution_count": 131,
     "metadata": {},
     "output_type": "execute_result"
    }
   ],
   "source": [
    "arrpu = pd.DataFrame(lifetime_rev_week.div(paying_users_lifetime,axis = 'index').rename('arrpu'))\n",
    "arrpu"
   ]
  },
  {
   "cell_type": "code",
   "execution_count": 133,
   "metadata": {},
   "outputs": [
    {
     "data": {
      "text/html": [
       "<div>\n",
       "<style scoped>\n",
       "    .dataframe tbody tr th:only-of-type {\n",
       "        vertical-align: middle;\n",
       "    }\n",
       "\n",
       "    .dataframe tbody tr th {\n",
       "        vertical-align: top;\n",
       "    }\n",
       "\n",
       "    .dataframe thead tr th {\n",
       "        text-align: left;\n",
       "    }\n",
       "\n",
       "    .dataframe thead tr:last-of-type th {\n",
       "        text-align: right;\n",
       "    }\n",
       "</style>\n",
       "<table border=\"1\" class=\"dataframe\">\n",
       "  <thead>\n",
       "    <tr>\n",
       "      <th></th>\n",
       "      <th colspan=\"6\" halign=\"left\">arrpu</th>\n",
       "    </tr>\n",
       "    <tr>\n",
       "      <th>indicator_lifetime</th>\n",
       "      <th>0</th>\n",
       "      <th>1</th>\n",
       "      <th>2</th>\n",
       "      <th>3</th>\n",
       "      <th>4</th>\n",
       "      <th>5</th>\n",
       "    </tr>\n",
       "    <tr>\n",
       "      <th>week_number_cohort</th>\n",
       "      <th></th>\n",
       "      <th></th>\n",
       "      <th></th>\n",
       "      <th></th>\n",
       "      <th></th>\n",
       "      <th></th>\n",
       "    </tr>\n",
       "  </thead>\n",
       "  <tbody>\n",
       "    <tr>\n",
       "      <th>30</th>\n",
       "      <td>30.050000</td>\n",
       "      <td>NaN</td>\n",
       "      <td>NaN</td>\n",
       "      <td>NaN</td>\n",
       "      <td>NaN</td>\n",
       "      <td>NaN</td>\n",
       "    </tr>\n",
       "    <tr>\n",
       "      <th>31</th>\n",
       "      <td>33.650307</td>\n",
       "      <td>34.514851</td>\n",
       "      <td>NaN</td>\n",
       "      <td>NaN</td>\n",
       "      <td>NaN</td>\n",
       "      <td>NaN</td>\n",
       "    </tr>\n",
       "    <tr>\n",
       "      <th>32</th>\n",
       "      <td>32.456747</td>\n",
       "      <td>35.466448</td>\n",
       "      <td>35.770492</td>\n",
       "      <td>NaN</td>\n",
       "      <td>NaN</td>\n",
       "      <td>NaN</td>\n",
       "    </tr>\n",
       "    <tr>\n",
       "      <th>33</th>\n",
       "      <td>34.385382</td>\n",
       "      <td>34.829352</td>\n",
       "      <td>36.168478</td>\n",
       "      <td>34.451220</td>\n",
       "      <td>NaN</td>\n",
       "      <td>NaN</td>\n",
       "    </tr>\n",
       "    <tr>\n",
       "      <th>34</th>\n",
       "      <td>33.712575</td>\n",
       "      <td>35.451197</td>\n",
       "      <td>35.000000</td>\n",
       "      <td>32.827225</td>\n",
       "      <td>31.186441</td>\n",
       "      <td>NaN</td>\n",
       "    </tr>\n",
       "    <tr>\n",
       "      <th>35</th>\n",
       "      <td>38.750000</td>\n",
       "      <td>30.648148</td>\n",
       "      <td>34.067797</td>\n",
       "      <td>31.724138</td>\n",
       "      <td>33.043478</td>\n",
       "      <td>40.0</td>\n",
       "    </tr>\n",
       "  </tbody>\n",
       "</table>\n",
       "</div>"
      ],
      "text/plain": [
       "                        arrpu                                              \\\n",
       "indicator_lifetime          0          1          2          3          4   \n",
       "week_number_cohort                                                          \n",
       "30                  30.050000        NaN        NaN        NaN        NaN   \n",
       "31                  33.650307  34.514851        NaN        NaN        NaN   \n",
       "32                  32.456747  35.466448  35.770492        NaN        NaN   \n",
       "33                  34.385382  34.829352  36.168478  34.451220        NaN   \n",
       "34                  33.712575  35.451197  35.000000  32.827225  31.186441   \n",
       "35                  38.750000  30.648148  34.067797  31.724138  33.043478   \n",
       "\n",
       "                          \n",
       "indicator_lifetime     5  \n",
       "week_number_cohort        \n",
       "30                   NaN  \n",
       "31                   NaN  \n",
       "32                   NaN  \n",
       "33                   NaN  \n",
       "34                   NaN  \n",
       "35                  40.0  "
      ]
     },
     "execution_count": 133,
     "metadata": {},
     "output_type": "execute_result"
    }
   ],
   "source": [
    "uns_arrpu = arrpu.unstack()\n",
    "uns_arrpu"
   ]
  },
  {
   "cell_type": "markdown",
   "metadata": {},
   "source": [
    "### 8. What is the 3-week ARPPU of a cohort with ID 31? Give the answer with a floating point number, rounded to 2 decimal places, inclusive."
   ]
  },
  {
   "cell_type": "markdown",
   "metadata": {},
   "source": [
    "Using the summarized ARRPU table, we find that the 3 week arrpu is given in the intersectionof the 2 indicator lifetime in the week_number_cohort **32**, when it has passed 3 weeks from the first purchase made in the cohort 31"
   ]
  },
  {
   "cell_type": "code",
   "execution_count": 134,
   "metadata": {},
   "outputs": [
    {
     "name": "stdout",
     "output_type": "stream",
     "text": [
      "The three week retention rate for the cohort 31 is 35.77\n"
     ]
    }
   ],
   "source": [
    "print(f'The three week ARRPU for the cohort 31 is {round(35.770492,2)}')"
   ]
  },
  {
   "cell_type": "markdown",
   "metadata": {},
   "source": [
    "### 9. What is the median time between user registration and first purchase? Give the answer in seconds (!) As an integer."
   ]
  },
  {
   "cell_type": "markdown",
   "metadata": {},
   "source": [
    "First we need to get the user and the fist(minimal) date that he made a purchase. Then, we evaluate it against his registration date."
   ]
  },
  {
   "cell_type": "code",
   "execution_count": 98,
   "metadata": {},
   "outputs": [
    {
     "data": {
      "text/plain": [
       "array(['registration', 'simple_event', 'purchase'], dtype=object)"
      ]
     },
     "execution_count": 98,
     "metadata": {},
     "output_type": "execute_result"
    }
   ],
   "source": [
    "df['event_type'].unique()"
   ]
  },
  {
   "cell_type": "code",
   "execution_count": 105,
   "metadata": {},
   "outputs": [
    {
     "data": {
      "text/plain": [
       "user_id\n",
       "00049f   2019-08-18 16:21:02\n",
       "0005f9   2019-08-29 16:24:42\n",
       "00082c   2019-08-03 17:37:37\n",
       "000ff1   2019-08-27 11:22:00\n",
       "001d5d   2019-08-23 13:24:11\n",
       "                 ...        \n",
       "ffe1a7   2019-08-05 03:05:13\n",
       "ffe60a   2019-08-26 06:35:05\n",
       "fff039   2019-08-26 21:46:49\n",
       "fff22e   2019-08-16 08:23:33\n",
       "fff4aa   2019-08-08 23:49:26\n",
       "Name: event_date_datetime, Length: 9996, dtype: datetime64[ns]"
      ]
     },
     "execution_count": 105,
     "metadata": {},
     "output_type": "execute_result"
    }
   ],
   "source": [
    "registration = df.query('event_type==\"registration\"').groupby('user_id')['event_date_datetime'].min()\n",
    "registration"
   ]
  },
  {
   "cell_type": "code",
   "execution_count": 101,
   "metadata": {},
   "outputs": [
    {
     "data": {
      "text/plain": [
       "user_id\n",
       "00049f   2019-08-18 17:31:56\n",
       "00082c   2019-08-14 12:57:41\n",
       "001d5d   2019-08-26 13:03:22\n",
       "002195   2019-08-18 22:35:43\n",
       "0025c1   2019-08-10 11:37:00\n",
       "                 ...        \n",
       "ffb3f3   2019-08-04 06:47:40\n",
       "ffbe61   2019-08-21 21:14:07\n",
       "ffc66a   2019-08-16 06:05:05\n",
       "ffc88b   2019-08-09 15:36:48\n",
       "fff4aa   2019-08-23 08:26:15\n",
       "Name: event_date_datetime, Length: 4283, dtype: datetime64[ns]"
      ]
     },
     "execution_count": 101,
     "metadata": {},
     "output_type": "execute_result"
    }
   ],
   "source": [
    "first_purchase = df.query('purchase_amount>0').groupby('user_id')['event_date_datetime'].min()\n",
    "first_purchase"
   ]
  },
  {
   "cell_type": "markdown",
   "metadata": {},
   "source": [
    "dt.total_seconds() function convert a datetime to seconds.\n",
    "\n",
    "https://pandas.pydata.org/docs/reference/api/pandas.Series.dt.total_seconds.html"
   ]
  },
  {
   "cell_type": "code",
   "execution_count": 109,
   "metadata": {},
   "outputs": [],
   "source": [
    "delta_fist_purchase = first_purchase - registration\n",
    "total_secs = delta_fist_purchase.dt.total_seconds()"
   ]
  },
  {
   "cell_type": "code",
   "execution_count": 110,
   "metadata": {},
   "outputs": [
    {
     "data": {
      "text/plain": [
       "user_id\n",
       "00049f       4254.0\n",
       "0005f9          NaN\n",
       "00082c     933604.0\n",
       "000ff1          NaN\n",
       "001d5d     257951.0\n",
       "            ...    \n",
       "ffe1a7          NaN\n",
       "ffe60a          NaN\n",
       "fff039          NaN\n",
       "fff22e          NaN\n",
       "fff4aa    1240609.0\n",
       "Name: event_date_datetime, Length: 9996, dtype: float64"
      ]
     },
     "execution_count": 110,
     "metadata": {},
     "output_type": "execute_result"
    }
   ],
   "source": [
    "total_secs"
   ]
  },
  {
   "cell_type": "code",
   "execution_count": 111,
   "metadata": {},
   "outputs": [],
   "source": [
    "median_first_purchase = int(total_secs.median())"
   ]
  },
  {
   "cell_type": "code",
   "execution_count": 112,
   "metadata": {},
   "outputs": [
    {
     "name": "stdout",
     "output_type": "stream",
     "text": [
      "The median between user register and the first purchase is 434774 seconds\n"
     ]
    }
   ],
   "source": [
    "print(f'The median between user register and the first purchase is {median_first_purchase} seconds. ')"
   ]
  }
 ],
 "metadata": {
  "kernelspec": {
   "display_name": "tripleten",
   "language": "python",
   "name": "python3"
  },
  "language_info": {
   "codemirror_mode": {
    "name": "ipython",
    "version": 3
   },
   "file_extension": ".py",
   "mimetype": "text/x-python",
   "name": "python",
   "nbconvert_exporter": "python",
   "pygments_lexer": "ipython3",
   "version": "3.10.0"
  },
  "orig_nbformat": 4
 },
 "nbformat": 4,
 "nbformat_minor": 2
}
